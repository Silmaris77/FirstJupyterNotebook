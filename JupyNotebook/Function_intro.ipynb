{
 "cells": [
  {
   "cell_type": "markdown",
   "id": "41a7885b-1587-415b-8162-24bee4a3aa61",
   "metadata": {},
   "source": [
    "### Jak tworzymy funkcję w Pythonie?\n",
    "Aby stworzyć funkcję w Pythonie, używamy słowa kluczowego `def`, po którym następuje nazwa funkcji i nawiasy okrągłe. W nawiasach można umieścić parametry funkcji. Po dwukropku zaczynamy ciało funkcji, które jest wcięte.\n"
   ]
  },
  {
   "cell_type": "code",
   "execution_count": 30,
   "id": "6e9e4299-0f6f-4383-89c6-39d01b9f826e",
   "metadata": {},
   "outputs": [],
   "source": [
    "# Przykład funkcji dodającej dwie liczby\n",
    "def dodaj(a, b):\n",
    "    return a + b"
   ]
  },
  {
   "cell_type": "markdown",
   "id": "1845b414-9d53-4ae6-b945-87405e0ab134",
   "metadata": {},
   "source": [
    "### Jak wywołujemy funkcję w Pythonie?\n",
    "Aby wywołać funkcję, używamy jej nazwy, a następnie nawiasów okrągłych. W nawiasach podajemy wartości argumentów, jeśli funkcja ich wymaga.\n"
   ]
  },
  {
   "cell_type": "code",
   "execution_count": 33,
   "id": "3a660737-c847-4212-9a1f-1e854064f439",
   "metadata": {},
   "outputs": [
    {
     "name": "stdout",
     "output_type": "stream",
     "text": [
      "12\n"
     ]
    }
   ],
   "source": [
    "# Wywołanie funkcji dodaj\n",
    "wynik = dodaj(5, 7)\n",
    "print(wynik)  # Powinno wyświetlić: 12\n"
   ]
  },
  {
   "cell_type": "code",
   "execution_count": null,
   "id": "6d5ab0c6-5b25-4f32-9acc-02e9c2e3c176",
   "metadata": {},
   "outputs": [],
   "source": []
  }
 ],
 "metadata": {
  "kernelspec": {
   "display_name": "Python 3 (ipykernel)",
   "language": "python",
   "name": "python3"
  },
  "language_info": {
   "codemirror_mode": {
    "name": "ipython",
    "version": 3
   },
   "file_extension": ".py",
   "mimetype": "text/x-python",
   "name": "python",
   "nbconvert_exporter": "python",
   "pygments_lexer": "ipython3",
   "version": "3.12.3"
  }
 },
 "nbformat": 4,
 "nbformat_minor": 5
}
